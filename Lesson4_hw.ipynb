{
 "cells": [
  {
   "cell_type": "markdown",
   "metadata": {},
   "source": [
    "### Урок 4. Системы линейных уравнений\n",
    "### Часть 1"
   ]
  },
  {
   "cell_type": "code",
   "execution_count": 1,
   "metadata": {},
   "outputs": [],
   "source": [
    "import numpy as np\n",
    "from scipy import linalg"
   ]
  },
  {
   "cell_type": "markdown",
   "metadata": {},
   "source": [
    "__1.__ Решить систему уравнений методом Гаусса:\n",
    "\n",
    "$$\\begin{cases}\n",
    "x_{1}+x_{2}-x_{3}-2x_{4}=0, \\\\\n",
    "2x_{1}+x_{2}-x_{3}+x_{4}=-2, \\\\\n",
    "x_{1}+x_{2}-3x_{3}+x_{4}=4.\n",
    "\\end{cases}$$"
   ]
  },
  {
   "cell_type": "markdown",
   "metadata": {},
   "source": [
    "Запишем расширенную матрицу системы:\n",
    "\n",
    "$$A = \\begin{pmatrix}\n",
    "\\left.\\begin{matrix}\n",
    "1 & 1 & -1 & -2 \\\\ \n",
    "2 & 1 & -1 & 1 \\\\ \n",
    "1 & 1 & -3 & 1\n",
    "\\end{matrix}\\right|\n",
    "\\begin{matrix}\n",
    "0\\\\ \n",
    "-2\\\\\n",
    "4\n",
    "\\end{matrix}\n",
    "\\end{pmatrix} = \\begin{pmatrix}\n",
    "1 & 1 & -1 & -2 & | & 0\\\\ \n",
    "0 & -1 & 1 & 5 & | & -2\\\\ \n",
    "0 & 0 & -2 & 3 & | & 4\n",
    "\\end{pmatrix}$$\n",
    "\n",
    "(Прибавим к второй стоке первую, умноженную на -2 (-2 -2 2 4 | 0), и к третьей первую, умноженную на -1 (-1 -1 1 2 | 0))"
   ]
  },
  {
   "cell_type": "markdown",
   "metadata": {},
   "source": [
    "Оставшаяся матрица соответствует системе:\n",
    "$$\\begin{cases}\n",
    "x_{1}+x_{2}-x_{3}-2x_{4}=0, \\\\\n",
    "-x_{2}+x_{3}+5x_{4}=-2, \\\\\n",
    "-2x_{3}+3x_{4}=4.\n",
    "\\end{cases}$$\n",
    "Бесконечное множество решений принято записывать в виде общего решения. В данном случае можно рассматривать в качестве свободного параметра  $x_{4}=c$ . Тогда, выражая остальные переменные через  c , получим:\n",
    "$$\\begin{cases}\n",
    "x_{1}+x_{2}-x_{3}-2x_{4}=0, \\\\\n",
    "-x_{2}+x_{3}+5x_{4}=-2, \\\\\n",
    "x_{3}=\\frac{3c-4}{2},\\\\\n",
    " x_{4}=c\n",
    "\\end{cases}, \\begin{cases}\n",
    "x_{1}=-\\frac{13c}{2}+\\frac{3c}{2}+2c-2=-3c-2, \\\\\n",
    "x_{2}=\\frac{3c}{2}+5c=\\frac{13c}{2}, \\\\\n",
    "x_{3}=\\frac{3c}{2}-2,\\\\\n",
    " x_{4}=c\n",
    "\\end{cases},$$\n",
    "Таковым будет общее решение системы. Подставляя произвольные числа вместо  c , мы получим частное решение. Например, при  $c=0$ :\n",
    "\n",
    "$x_{1}=-2, \\\\\n",
    "x_{2}=0, \\\\\n",
    "x_{3}=-2,\\\\\n",
    " x_{4}=0$\n",
    "Параметр  c  может принимать бесконечное количество значений, при которых уравнения в системе будут обращаться в тождества.\n",
    "\n",
    "Подставив общее решение в исходную систему, также получим тождества:\n",
    "$$\\begin{cases}\n",
    "-2+0+2-0=0, \\\\\n",
    "0-2+0=-2, \\\\\n",
    "-2+0+6+0=4.\n",
    "\\end{cases}$$"
   ]
  },
  {
   "cell_type": "markdown",
   "metadata": {},
   "source": [
    "**Проверка на python**"
   ]
  },
  {
   "cell_type": "code",
   "execution_count": 2,
   "metadata": {},
   "outputs": [
    {
     "data": {
      "text/plain": [
       "array([[ 1,  1, -1, -2,  0],\n",
       "       [ 2,  1, -1,  1, -2],\n",
       "       [ 1,  1, -3,  1,  4]])"
      ]
     },
     "execution_count": 2,
     "metadata": {},
     "output_type": "execute_result"
    }
   ],
   "source": [
    "A = np.array([[1, 1, -1, -2, 0], [2, 1, -1, 1, -2], [1, 1, -3, 1, 4]])\n",
    "A"
   ]
  },
  {
   "cell_type": "code",
   "execution_count": 3,
   "metadata": {},
   "outputs": [
    {
     "name": "stdout",
     "output_type": "stream",
     "text": [
      "[[ 1  1 -1 -2  0]\n",
      " [ 0 -1  1  5 -2]\n",
      " [ 0  0 -2  3  4]]\n"
     ]
    }
   ],
   "source": [
    "A[1, :] += (-2)*A[0, :]\n",
    "A[2, :] += (-1)*A[0, :]\n",
    "print(A)"
   ]
  },
  {
   "cell_type": "code",
   "execution_count": 4,
   "metadata": {},
   "outputs": [
    {
     "name": "stdout",
     "output_type": "stream",
     "text": [
      "-2 \t 0.0 \t -2.0 \t 0 \t\n"
     ]
    }
   ],
   "source": [
    "c =0 \n",
    "x1 = -3*c-2\n",
    "x2 = 6.5*c\n",
    "x3 = 1.5*c -2\n",
    "x4 = c\n",
    "print(x1, '\\t', x2, '\\t', x3, '\\t', x4,'\\t')"
   ]
  },
  {
   "cell_type": "code",
   "execution_count": 5,
   "metadata": {},
   "outputs": [
    {
     "name": "stdout",
     "output_type": "stream",
     "text": [
      "True\n",
      "True\n",
      "True\n"
     ]
    }
   ],
   "source": [
    "print(x1+x2-x3-2*x4 ==0)\n",
    "print(2*x1+x2-x3+x4 == -2)\n",
    "print(x1+x2-3*x3+x4 == 4)"
   ]
  },
  {
   "cell_type": "markdown",
   "metadata": {},
   "source": [
    "__2.__ Проверить на совместность и выяснить, сколько решений будет иметь система линейных уравнений:\n",
    "\n",
    "   а) $\\begin{cases}\n",
    "3x_{1}-x_{2}+x_{3}=4, \\\\\n",
    "2x_{1}-5x_{2}-3x_{3}=-17, \\\\\n",
    "x_{1}+x_{2}-x_{3}=0;\n",
    "\\end{cases}$\n",
    "    \n",
    "   б) $\\begin{cases}\n",
    "2x_{1}-4x_{2}+6x_{3}=1, \\\\\n",
    "x_{1}-2x_{2}+3x_{3}=-2, \\\\\n",
    "3x_{1}-6x_{2}+9x_{3}=5;\n",
    "\\end{cases}$\n",
    "    \n",
    "   в) $\\begin{cases}\n",
    "x_{1}+2x_{2}+5x_{3}=4, \\\\\n",
    "3x_{1}+x_{2}-8x_{3}=-2. \n",
    "\\end{cases}$"
   ]
  },
  {
   "cell_type": "markdown",
   "metadata": {},
   "source": [
    "a)$\n",
    "\\begin{pmatrix}\n",
    "\\left.\\begin{matrix}\n",
    "3 & -1 & 1\\\\\n",
    "2 & -5 & -3\\\\\n",
    "1 & 1 & -1\n",
    "\\end{matrix}\\right|\n",
    "\\begin{matrix}\n",
    "4\\\\\n",
    "-17\\\\\n",
    "0\n",
    "\\end{matrix}\n",
    "\\end{pmatrix}\\Rightarrow\n",
    "\\begin{pmatrix}\n",
    "\\left.\\begin{matrix}\n",
    "1 & -1 & 3\\\\\n",
    "-3 & -5 & 2\\\\\n",
    "-1 & 1 & 1\n",
    "\\end{matrix}\\right|\n",
    "\\begin{matrix}\n",
    "4\\\\\n",
    "-17\\\\\n",
    "0\n",
    "\\end{matrix}\n",
    "\\end{pmatrix}\\Rightarrow\n",
    "\\begin{pmatrix}\n",
    "\\left.\\begin{matrix}\n",
    "1 & -1 & 3\\\\\n",
    "0 & -8 & -1\\\\\n",
    "0 & 0 & 4\n",
    "\\end{matrix}\\right|\n",
    "\\begin{matrix}\n",
    "4\\\\\n",
    "-17\\\\\n",
    "4\n",
    "\\end{matrix}\n",
    "\\end{pmatrix}\n",
    "$\n",
    "\n",
    "Решение единственное, система совместна:\n",
    "$\\begin{cases}\n",
    "x_{3} - x_{2} + 3x_{1} = 4, \\\\\n",
    "-8x_{2} - x_{1} = -17, \\\\\n",
    "x_{1} = 1;\n",
    "\\end{cases} = \n",
    "\\begin{cases}\n",
    "x_{1} = 1, \\\\\n",
    "x_{2} = 2, \\\\\n",
    "x_{3} = 3;\n",
    "\\end{cases}$\n",
    "\n",
    "б) $\n",
    "\\begin{pmatrix}\n",
    "\\left.\\begin{matrix}\n",
    "2 & -4 & 6\\\\\n",
    "1 & -2 & 3\\\\\n",
    "3 & -6 & 9\n",
    "\\end{matrix}\\right|\n",
    "\\begin{matrix}\n",
    "1\\\\\n",
    "-2\\\\\n",
    "5\n",
    "\\end{matrix}\n",
    "\\end{pmatrix}\\Rightarrow\n",
    "\\begin{pmatrix}\n",
    "\\left.\\begin{matrix}\n",
    "2 & -4 & 6\\\\\n",
    "1 & -2 & 3\\\\\n",
    "0 & 0 & 0\n",
    "\\end{matrix}\\right|\n",
    "\\begin{matrix}\n",
    "1\\\\\n",
    "-2\\\\\n",
    "6\n",
    "\\end{matrix}\n",
    "\\end{pmatrix}\n",
    "$\n",
    "Система не совместна, не имеет решений\n",
    "\n",
    "в) \n",
    "$\n",
    "\\begin{pmatrix}\n",
    "\\left.\\begin{matrix}\n",
    "1 & 2 & 5\\\\\n",
    "3 & 1 & -8\n",
    "\\end{matrix}\\right|\n",
    "\\begin{matrix}\n",
    "4\\\\\n",
    "-2\n",
    "\\end{matrix}\n",
    "\\end{pmatrix}\n",
    "$\n",
    "$\n",
    "\\begin{pmatrix}\n",
    "\\left.\\begin{matrix}\n",
    "1 & 2 & 5\\\\\n",
    "0 & -5 & -23\n",
    "\\end{matrix}\\right|\n",
    "\\begin{matrix}\n",
    "4\\\\\n",
    "-14\n",
    "\\end{matrix}\n",
    "\\end{pmatrix}\n",
    "$\n",
    "$\n",
    "x_3 = t\\\\\n",
    "x_2 = (-14 + 23t)/-5\\\\\n",
    "x_1 = 4 + 2(-14+23t)/5-5t\n",
    "$\n",
    "В данном случае можно рассматривать в качестве свободного параметра $x_{3}=c$. Тогда, выражая остальные переменные через c , получим:\n",
    "$\\begin{cases}\n",
    "x_{1} + 2x_{2} + 5c = 4,\\\\\n",
    "-5x_{2} - 23c = -14,\\\\\n",
    "x_{3} = c\n",
    "\\end{cases} = \n",
    "\\begin{cases}\n",
    "x_{1} = 4 - 2\\frac{14-23c}{5} - 5с , \\\\\n",
    "x_{2} = \\frac{14-23c}{5} ,\\\\\n",
    "x_{3} = c\n",
    "\\end{cases} = \n",
    "\\begin{cases}\n",
    "x_{1} = \\frac{21c}{5} - \\frac{8}{5} ,\\\\\n",
    "x_{2} = \\frac{14-23c}{5},\\\\\n",
    "x_{3} = c\n",
    "\\end{cases}$\n",
    "\n",
    "Система совместная, неопределенная, имеет бесконечное число решений"
   ]
  },
  {
   "cell_type": "markdown",
   "metadata": {},
   "source": [
    "**Проверка на python**"
   ]
  },
  {
   "cell_type": "code",
   "execution_count": 6,
   "metadata": {},
   "outputs": [
    {
     "name": "stdout",
     "output_type": "stream",
     "text": [
      "a) True\n",
      "б) False\n",
      "в) True\n"
     ]
    }
   ],
   "source": [
    "a = np.array([[3, -1, 1], [2, -5, -3], [1, 1, -1]])\n",
    "a2= np.array([[4, -17, 0]])\n",
    "a_ = np.append(a, a2.T, axis=1)\n",
    "\n",
    "rank_a = np.linalg.matrix_rank(a)\n",
    "rank_a_ =np.linalg.matrix_rank(a_)\n",
    "print(f'a) {rank_a == rank_a_}')\n",
    "\n",
    "b = np.array([[2, -4, 6], [1, -2, 3], [3, -6, 9]])\n",
    "b2= np.array([[1, -2, 5]])\n",
    "b_ = np.append(b, b2.T, axis=1)\n",
    "\n",
    "rank_b = np.linalg.matrix_rank(b)\n",
    "rank_b_ =np.linalg.matrix_rank(b_)\n",
    "print(f'б) {rank_b == rank_b_}')\n",
    "\n",
    "с = np.array([[1, 2, 5], [3, 1, -8]])\n",
    "с2= np.array([[4, -2]])\n",
    "с_ = np.append(с, с2.T, axis=1)\n",
    "\n",
    "rank_c = np.linalg.matrix_rank(с)\n",
    "rank_c_ =np.linalg.matrix_rank(с_)\n",
    "print(f'в) {rank_c == rank_c_}')"
   ]
  },
  {
   "cell_type": "markdown",
   "metadata": {},
   "source": [
    "Если Ранги матрицы коэффициентов и расширенной матрицы  совпадают и равны количеству неизвестных n, значит, по теореме Кронекера-Капелли, система линейных уравнений совместна и определена, то есть имеет единственное решение."
   ]
  },
  {
   "cell_type": "markdown",
   "metadata": {},
   "source": [
    "__3.__ Проверить на совместность и выяснить, сколько решений будет иметь система линейных уравнений, заданная расширенной матрицей\n",
    "\n",
    "$$\\tilde{A}=\\begin{pmatrix}\n",
    "\\left.\\begin{matrix}\n",
    "1 & 3 & -2 & 4\\\\ \n",
    "0 & 5 & 0 & 1\\\\ \n",
    "0 & 0 & 3 & 0\\\\ \n",
    "0 & 0 & 0 & 2\n",
    "\\end{matrix}\\right|\n",
    "\\begin{matrix}\n",
    "3\\\\ \n",
    "2\\\\\n",
    "4\\\\\n",
    "1\n",
    "\\end{matrix}\n",
    "\\end{pmatrix}.$$"
   ]
  },
  {
   "cell_type": "markdown",
   "metadata": {},
   "source": [
    "$A=\\begin{pmatrix}\n",
    "\\begin{matrix}\n",
    "1 & 3 & -2 & 4\\\\ \n",
    "0 & 5 & 0 & 1\\\\ \n",
    "0 & 0 & 3 & 0\\\\ \n",
    "0 & 0 & 0 & 2\n",
    "\\end{matrix}\n",
    "\\end{pmatrix} = \n",
    "\\begin{pmatrix}\n",
    "\\begin{matrix}\n",
    "1 & 3 & -2 & 4\\\\ \n",
    "0 & 1 & 0 & 0.2\\\\ \n",
    "0 & 0 & 1 & 0\\\\ \n",
    "0 & 0 & 0 & 1\n",
    "\\end{matrix}\n",
    "\\end{pmatrix}$\n",
    "$\\tilde{A}=\\begin{pmatrix}\n",
    "\\left.\\begin{matrix}\n",
    "1 & 3 & -2 & 4\\\\ \n",
    "0 & 5 & 0 & 1\\\\ \n",
    "0 & 0 & 3 & 0\\\\ \n",
    "0 & 0 & 0 & 2\n",
    "\\end{matrix}\\right|\n",
    "\\begin{matrix}\n",
    "3\\\\ \n",
    "2\\\\\n",
    "4\\\\\n",
    "1\n",
    "\\end{matrix}\n",
    "\\end{pmatrix} = \n",
    "\\begin{pmatrix}\n",
    "\\left.\\begin{matrix}\n",
    "1 & 3 & -2 & 4\\\\ \n",
    "0 & 1 & 0 & 0.2\\\\ \n",
    "0 & 0 & 1 & 0\\\\ \n",
    "0 & 0 & 0 & 1\n",
    "\\end{matrix}\\right|\n",
    "\\begin{matrix}\n",
    "3\\\\ \n",
    "0.4\\\\\n",
    "4/3\\\\\n",
    "0.5\n",
    "\\end{matrix}\n",
    "\\end{pmatrix}$\n",
    "$Rank(A) = Rank(\\tilde{A}) = 4$ Система определена и имеет единственное решение"
   ]
  },
  {
   "cell_type": "markdown",
   "metadata": {},
   "source": [
    "**Проверка на python**"
   ]
  },
  {
   "cell_type": "code",
   "execution_count": 7,
   "metadata": {},
   "outputs": [
    {
     "data": {
      "text/plain": [
       "array([[ 1,  3, -2,  4,  3],\n",
       "       [ 0,  5,  0,  1,  2],\n",
       "       [ 0,  0,  3,  0,  4],\n",
       "       [ 0,  0,  0,  2,  1]])"
      ]
     },
     "execution_count": 7,
     "metadata": {},
     "output_type": "execute_result"
    }
   ],
   "source": [
    "a = np.array([[1, 3, -2, 4], [0, 5, 0, 1], [0, 0, 3, 0], [0 ,0 ,0, 2]])\n",
    "a1 = np.array([3, 2, 4, 1]).reshape((-1,1))\n",
    "a_ = np.concatenate([a, a1], axis =1)\n",
    "a_"
   ]
  },
  {
   "cell_type": "code",
   "execution_count": 8,
   "metadata": {},
   "outputs": [
    {
     "data": {
      "text/plain": [
       "True"
      ]
     },
     "execution_count": 8,
     "metadata": {},
     "output_type": "execute_result"
    }
   ],
   "source": [
    "np.linalg.matrix_rank(a) == np.linalg.matrix_rank(a_)"
   ]
  },
  {
   "cell_type": "markdown",
   "metadata": {},
   "source": [
    "__4.__ Дана система линейных уравнений, заданная расширенной матрицей\n",
    "\n",
    "$$\\tilde{A}=\\begin{pmatrix}\n",
    "\\left.\\begin{matrix}\n",
    "1 & 2 & 3\\\\ \n",
    "4 & 5 & 6\\\\ \n",
    "7 & 8 & 9\n",
    "\\end{matrix}\\right|\n",
    "\\begin{matrix}\n",
    "a\\\\ \n",
    "b\\\\\n",
    "c\n",
    "\\end{matrix}\n",
    "\\end{pmatrix}.$$\n",
    "\n",
    "Найти соотношение между параметрами $a$, $b$ и $c$, при которых система является несовместной."
   ]
  },
  {
   "cell_type": "markdown",
   "metadata": {},
   "source": [
    "$|A| = \\begin{vmatrix}\n",
    "1 & 2 & 3\\\\ \n",
    "4 & 5 & 6\\\\ \n",
    "7 & 8 & 9\n",
    "\\end{vmatrix} = 2$\n",
    "$\\begin{vmatrix}\n",
    "\\left.\\begin{matrix}\n",
    "1 & 2 & 3\\\\ \n",
    "4 & 5 & 6\\\\ \n",
    "7 & 8 & 9\n",
    "\\end{matrix}\\right|\n",
    "\\begin{matrix}\n",
    "a\\\\ \n",
    "b\\\\\n",
    "c\n",
    "\\end{matrix}\n",
    "\\end{vmatrix} =\n",
    "a \\begin{vmatrix}\n",
    "4 & 5 \\\\\n",
    "7 & 8\n",
    "\\end{vmatrix} - b \\begin{vmatrix}\n",
    "1 & 2 \\\\\n",
    "7 & 8\n",
    "\\end{vmatrix} + c \\begin{vmatrix}\n",
    "1 & 2 \\\\\n",
    "4 & 5\n",
    "\\end{vmatrix} = -3a + 6b -3c = $ \n",
    "$-a + 2b -c$\n",
    "\n",
    "$-a + 2b - c = 0$\n",
    "\n",
    "$c = 2b - a$\n",
    "\n",
    "При любых соотношений $a$, $b$ и $c$, кроме $c = 2b - a$ $rank A<rank \\tilde A$ система несовместна."
   ]
  },
  {
   "cell_type": "markdown",
   "metadata": {},
   "source": [
    "### Часть 2 "
   ]
  },
  {
   "cell_type": "markdown",
   "metadata": {},
   "source": [
    "__1.__ Решить систему уравнений методом Крамера:\n",
    "\n",
    "   а) $\\begin{cases}\n",
    "x_{1}-2x_{2}=1 \\\\\n",
    "3x_{1}-4x_{2}=7\n",
    "\\end{cases}$\n",
    "    \n",
    "   б) $\\begin{cases}\n",
    "2x_{1}-x_{2}+5x_{3}=10 \\\\\n",
    "x_{1}+x_{2}-3x_{3}=-2 \\\\\n",
    "2x_{1}+4x_{2}+x_{3}=1\n",
    "\\end{cases}$"
   ]
  },
  {
   "cell_type": "markdown",
   "metadata": {},
   "source": [
    "а) $detA=\\begin{vmatrix}\n",
    "1 & -2 \\\\ \n",
    "3 & -4\\\\ \n",
    "\\end{vmatrix}= -4+6 = 2\\neq 0,$\n",
    "\n",
    "$detA_{1}=\\begin{vmatrix}\n",
    "1 & -2 \\\\ \n",
    "7 & -4\\\\ \n",
    "\\end{vmatrix}= -4+14 = 10\\neq 0,$\n",
    "$detA_{2}=\\begin{vmatrix}\n",
    "1 & 1 \\\\ \n",
    "3 & 7 \\\\ \n",
    "\\end{vmatrix}= 7-3 = 4\\neq 0,$\n",
    "\n",
    "$$x_{1} = \\frac{detA_{1}}{detA} = \\frac{10}{2}=5,$$\n",
    "$$x_{2} = \\frac{detA_{2}}{detA} = \\frac{4}{2}=2,$$\n",
    "\n",
    "б) $detA=\\begin{vmatrix}\n",
    "2 & -1 & 5 \\\\ \n",
    "1 & 1 & -3 \\\\\n",
    "2 & 4 & 1 \\\\\n",
    "\\end{vmatrix}= 2\\begin{vmatrix}\n",
    "1 & -3\\\\ \n",
    "4 & 1 \n",
    "\\end{vmatrix}\n",
    "-1\\begin{vmatrix}\n",
    "1 & -3\\\\ \n",
    "2 & 1 \n",
    "\\end{vmatrix}+5\n",
    "\\begin{vmatrix}\n",
    "1 & 1 \\\\ \n",
    "2 & 4\n",
    "\\end{vmatrix} = 2 \\cdot (1+12) + 1 \\cdot (1+6) + 5 \\cdot (4-2)= 26+7+ 10 = 43 \\neq 0$"
   ]
  },
  {
   "cell_type": "markdown",
   "metadata": {},
   "source": [
    "$detA_{1}=\\begin{vmatrix}\n",
    "10 & -1 & 5 \\\\ \n",
    "-2 & 1 & -3 \\\\\n",
    "1 & 4 & 1 \\\\\n",
    "\\end{vmatrix} = 1 \\cdot \\begin{vmatrix}\n",
    "-1 & 5\\\\ \n",
    "1 & -3\n",
    "\\end{vmatrix} - 4 \\cdot \\begin{vmatrix}\n",
    "10 & 5\\\\ \n",
    "-2 & -3\n",
    "\\end{vmatrix} + 1 \\cdot \\begin{vmatrix}\n",
    "10 & -1\\\\ \n",
    "-2 & 1 \n",
    "\\end{vmatrix} = (-1 \\cdot (-3) - 5 \\cdot 1) - 4 \\cdot (10 \\cdot (-3) - 5 \\cdot (-2)) + (10 \\cdot 1 - (-1) \\cdot (-2)) = -2 + 80 + 8 = 86 \\neq 0,$\n",
    "\n",
    "$detA_{2}=\\begin{vmatrix}\n",
    "2 & 10 & 5 \\\\ \n",
    "1 & -2 & -3 \\\\\n",
    "2 & 1 & 1 \\\\\n",
    "\\end{vmatrix}= 2 \\cdot \\begin{vmatrix}\n",
    "-2 & -3\\\\ \n",
    "1 & 1\n",
    "\\end{vmatrix} - 1 \\cdot \\begin{vmatrix}\n",
    "10 & 5\\\\ \n",
    "1 & 1\n",
    "\\end{vmatrix} + 2 \\cdot \\begin{vmatrix}\n",
    "10 & 5\\\\ \n",
    "-2 & -3\n",
    "\\end{vmatrix} = 2 \\cdot ((-2) \\cdot 1 - (-3) \\cdot 1) - (10 \\cdot 1 - 5 \\cdot 1) + 2 \\cdot (10 \\cdot (-3) - 5 \\cdot (-2)) = 2 - 5 - 40 = -43 \\neq 0,$\n",
    "\n",
    "$detA_{3}=\\begin{vmatrix}\n",
    "2 & -1 & 10 \\\\ \n",
    "1 & 1 & -2 \\\\\n",
    "2 & 4 & 1 \\\\\n",
    "\\end{vmatrix} = 2 \\cdot \\begin{vmatrix}\n",
    "1 & -2\\\\ \n",
    "4 & 1\n",
    "\\end{vmatrix} - 1 \\cdot \\begin{vmatrix}\n",
    "-1 & 10\\\\ \n",
    "4 & 1\n",
    "\\end{vmatrix} + 2 \\cdot \\begin{vmatrix}\n",
    "-1 & 10\\\\ \n",
    "1 & -2\n",
    "\\end{vmatrix} = 2 \\cdot (1 \\cdot 1 - (-2) \\cdot 4) - (-1 \\cdot 1 - 10 \\cdot 4) + 2 \\cdot (-1 \\cdot (-2) - 10 \\cdot 1) = 18 + 41 - 16 = 43\\neq 0,$\n",
    "\n",
    "$x_{1}=\\frac{detA_{1}}{detA} = \\frac{86}{43} = 2$,\n",
    "$x_{2}=\\frac{detA_{2}}{detA} = \\frac{43}{43} = -1$,\n",
    "$x_{3}=\\frac{detA_{3}}{detA} = \\frac{43}{43} = 1$"
   ]
  },
  {
   "cell_type": "markdown",
   "metadata": {},
   "source": [
    "**Проверка на python**"
   ]
  },
  {
   "cell_type": "code",
   "execution_count": 9,
   "metadata": {},
   "outputs": [
    {
     "name": "stdout",
     "output_type": "stream",
     "text": [
      "а) Матрица:\n",
      "[[ 1 -2]\n",
      " [ 3 -4]]\n",
      "Определитель:\n",
      "2\n"
     ]
    }
   ],
   "source": [
    "a = np.array([[1, -2], [3, -4]])\n",
    "print(f'а) Матрица:\\n{a}')\n",
    "print(f'Определитель:\\n{np.linalg.det(a):.0f}')"
   ]
  },
  {
   "cell_type": "code",
   "execution_count": 10,
   "metadata": {},
   "outputs": [
    {
     "name": "stdout",
     "output_type": "stream",
     "text": [
      "а) Матрица a1:\n",
      "[[ 1 -2]\n",
      " [ 7 -4]]\n",
      "Определитель a1:\n",
      "10\n",
      "а) Матрица a2:\n",
      "[[1 1]\n",
      " [3 7]]\n",
      "Определитель a1:\n",
      "4\n",
      "x1 = 5.0,  x2= 2.0\n"
     ]
    }
   ],
   "source": [
    "a1 = np.array([[1, -2], [7, -4]])\n",
    "a2 = np.array([[1, 1], [3, 7]])\n",
    "\n",
    "print(f'а) Матрица a1:\\n{a1}')\n",
    "print(f'Определитель a1:\\n{np.linalg.det(a1):.0f}')\n",
    "\n",
    "print(f'а) Матрица a2:\\n{a2}')\n",
    "print(f'Определитель a1:\\n{np.linalg.det(a2):.0f}')\n",
    "\n",
    "x1=np.round(np.linalg.det(a1)/np.linalg.det(a))\n",
    "x2=np.round(np.linalg.det(a2)/np.linalg.det(a))\n",
    "print(f'x1 = {x1},  x2= {x2}')"
   ]
  },
  {
   "cell_type": "code",
   "execution_count": 11,
   "metadata": {},
   "outputs": [
    {
     "name": "stdout",
     "output_type": "stream",
     "text": [
      "б) Матрица:\n",
      "[[ 2 -1  5]\n",
      " [ 1  1 -3]\n",
      " [ 2  4  1]]\n",
      "Определитель:\n",
      "43\n"
     ]
    }
   ],
   "source": [
    "a = np.array([[2, -1, 5], [1, 1, -3], [2, 4, 1]])\n",
    "print(f'б) Матрица:\\n{a}')\n",
    "print(f'Определитель:\\n{np.linalg.det(a):.0f}')"
   ]
  },
  {
   "cell_type": "code",
   "execution_count": 12,
   "metadata": {},
   "outputs": [
    {
     "name": "stdout",
     "output_type": "stream",
     "text": [
      "б) Матрица a1:\n",
      "[[10 -1  5]\n",
      " [-2  1 -3]\n",
      " [ 1  4  1]]\n",
      "Определитель a1:\n",
      "86\n",
      "б) Матрица a2:\n",
      "[[ 2 10  5]\n",
      " [ 1 -2 -3]\n",
      " [ 2  1  1]]\n",
      "Определитель a1:\n",
      "-43\n",
      "б) Матрица a3:\n",
      "[[ 2 -1 10]\n",
      " [ 1  1 -2]\n",
      " [ 2  4  1]]\n",
      "Определитель a1:\n",
      "43\n",
      "x1 = 2.0,  x2= -1.0, x3 = 1.0\n"
     ]
    }
   ],
   "source": [
    "a1 = np.array([[10, -1, 5], [-2, 1, -3], [1, 4, 1]])\n",
    "a2 = np.array([[2, 10, 5], [1, -2, -3], [2, 1, 1]])\n",
    "a3 = np.array([[2, -1, 10], [1, 1, -2], [2, 4, 1]])\n",
    "print(f'б) Матрица a1:\\n{a1}')\n",
    "print(f'Определитель a1:\\n{np.linalg.det(a1):.0f}')\n",
    "\n",
    "print(f'б) Матрица a2:\\n{a2}')\n",
    "print(f'Определитель a1:\\n{np.linalg.det(a2):.0f}')\n",
    "\n",
    "print(f'б) Матрица a3:\\n{a3}')\n",
    "print(f'Определитель a1:\\n{np.linalg.det(a3):.0f}')\n",
    "\n",
    "x1=np.round(np.linalg.det(a1)/np.linalg.det(a))\n",
    "x2=np.round(np.linalg.det(a2)/np.linalg.det(a))\n",
    "x3=np.round(np.linalg.det(a3)/np.linalg.det(a))\n",
    "print(f'x1 = {x1},  x2= {x2}, x3 = {x3}')"
   ]
  },
  {
   "cell_type": "markdown",
   "metadata": {},
   "source": [
    "__2*.__ Найти $L$-матрицу $LU$-разложения для матрицы коэффициентов:\n",
    "\n",
    "   а)$$\\begin{pmatrix}\n",
    "1 & 2 & 4 \\\\ \n",
    "2 & 9 & 12 \\\\ \n",
    "3 & 26 & 30\n",
    "\\end{pmatrix}$$\n",
    "$U = \\begin{pmatrix}\n",
    "3 & 26 & 30 \\\\\n",
    "2 & 9 & 12 \\\\ \n",
    "1 & 2 & 4 \\\\ \n",
    "\\end{pmatrix}$\n",
    "$L = \\begin{pmatrix} \n",
    "1 & 0 & 0 \\\\\n",
    "0 & 1 & 0 \\\\\n",
    "0 & 0 & 1\n",
    "\\end{pmatrix}$\n",
    "$U = \\begin{pmatrix}\n",
    "3 & 26 & 30 \\\\\n",
    "0 & - \\frac{25}{3} & -8 \\\\ \n",
    "0 & -\\frac{20}{3} & -6 \\\\ \n",
    "\\end{pmatrix}$\n",
    "$U = \\begin{pmatrix}\n",
    "3 & 26 & 30 \\\\\n",
    "0 & -8 \\frac{1}{3} & -8 \\\\ \n",
    "0 & 0 & \\frac{2}{5} \\\\ \n",
    "\\end{pmatrix}$\n",
    "$L = \\begin{pmatrix} \n",
    "1 & 0 & 0 \\\\\n",
    "\\frac{2}{3} & 1 & 0 \\\\\n",
    "\\frac{1}{3} & \\frac{4}{5} & 1\n",
    "\\end{pmatrix}$\n",
    "    \n",
    "   б)$$\\begin{pmatrix}\n",
    "1 & 1 & 2 & 4\\\\ \n",
    "2 & 5 & 8 & 9\\\\ \n",
    "3 & 18 & 29 & 18\\\\\n",
    "4 & 22 & 53 & 33\n",
    "\\end{pmatrix}$$"
   ]
  },
  {
   "cell_type": "markdown",
   "metadata": {},
   "source": [
    "$U = \\begin{pmatrix}\n",
    "4 & 22 & 53 & 33 \\\\\n",
    "2 & 5 & 8 & 9 \\\\ \n",
    "3 & 18 & 29 & 18 \\\\\n",
    "1 & 1 & 2 & 4\n",
    "\\end{pmatrix}$\n",
    "$U = \\begin{pmatrix}\n",
    "4 & 22 & 53 & 33 \\\\\n",
    "0 & -6 & -18 \\frac{1}{2} & -7 \\frac{1}{2} \\\\ \n",
    "0 & 1 \\frac{1}{2} & -10 \\frac{3}{4} & -6 \\frac{3}{4} \\\\\n",
    "0 & -4 \\frac{1}{2} & -11 \\frac{1}{4} & -4 \\frac{1}{4} \n",
    "\\end{pmatrix}$\n",
    "$U = \\begin{pmatrix}\n",
    "4 & 22 & 53 & 33 \\\\\n",
    "0 & -6 & -18 \\frac{1}{2} & -7 \\frac{1}{2} \\\\ \n",
    "0 & 1 \\frac{1}{2} & -10 \\frac{3}{4} & -6 \\frac{3}{4} \\\\\n",
    "0 & -4 \\frac{1}{2} & -11 \\frac{1}{4} & -4 \\frac{1}{4} \n",
    "\\end{pmatrix}$\n",
    "$U = \\begin{pmatrix}\n",
    "4 & 22 & 53 & 33 \\\\\n",
    "0 & -6 & -18 \\frac{1}{2} & -7 \\frac{1}{2} \\\\ \n",
    "0 & 0 & -15 \\frac{3}{8} & -8 \\frac{5}{8} \\\\\n",
    "0 & 0 & 2 \\frac{5}{8} & 1 \\frac{3}{8} \n",
    "\\end{pmatrix}$\n",
    "$U = \\begin{pmatrix}\n",
    "4 & 22 & 53 & 33 \\\\\n",
    "0 & -6 & -18 \\frac{1}{2} & -7 \\frac{1}{2} \\\\ \n",
    "0 & 0 & -15 \\frac{3}{8} & -8 \\frac{5}{8} \\\\\n",
    "0 & 0 & 0 & - \\frac{4}{41}\n",
    "\\end{pmatrix}$\n",
    "$L = \\begin{pmatrix} \n",
    "1 & 0 & 0 & 0 \\\\\n",
    "\\frac{1}{2} & 1 & 0 & 0 \\\\\n",
    "\\frac{3}{4} & -\\frac{1}{4} & 1 & 0 \\\\\n",
    "\\frac{1}{4} & \\frac{3}{4} & - \\frac{7}{41} & 1\n",
    "\\end{pmatrix}$"
   ]
  },
  {
   "cell_type": "markdown",
   "metadata": {},
   "source": [
    "**Проверка на python**"
   ]
  },
  {
   "cell_type": "code",
   "execution_count": 13,
   "metadata": {},
   "outputs": [
    {
     "data": {
      "text/plain": [
       "array([[ 1,  2,  4],\n",
       "       [ 2,  9, 12],\n",
       "       [ 3, 26, 30]])"
      ]
     },
     "execution_count": 13,
     "metadata": {},
     "output_type": "execute_result"
    }
   ],
   "source": [
    "c = np.array([[1, 2, 4], [2, 9, 12], [3, 26, 30]])\n",
    "c"
   ]
  },
  {
   "cell_type": "code",
   "execution_count": 14,
   "metadata": {},
   "outputs": [
    {
     "name": "stdout",
     "output_type": "stream",
     "text": [
      "U =\n",
      " [[ 3.         26.         30.        ]\n",
      " [ 0.         -8.33333333 -8.        ]\n",
      " [ 0.          0.          0.4       ]]\n",
      "L =\n",
      " [[1.         0.         0.        ]\n",
      " [0.66666667 1.         0.        ]\n",
      " [0.33333333 0.8        1.        ]]\n"
     ]
    }
   ],
   "source": [
    "P, L, U = linalg.lu(c)\n",
    "print(f'U =\\n {U}')\n",
    "print(f'L =\\n {L}')"
   ]
  },
  {
   "cell_type": "code",
   "execution_count": 15,
   "metadata": {},
   "outputs": [
    {
     "data": {
      "text/plain": [
       "array([[ 1,  1,  2,  4],\n",
       "       [ 2,  5,  8,  9],\n",
       "       [ 3, 18, 29, 18],\n",
       "       [ 4, 22, 53, 33]])"
      ]
     },
     "execution_count": 15,
     "metadata": {},
     "output_type": "execute_result"
    }
   ],
   "source": [
    "d = np.array([[1, 1, 2, 4], [2, 5, 8, 9], [3, 18, 29, 18], [4, 22, 53, 33]])\n",
    "d"
   ]
  },
  {
   "cell_type": "code",
   "execution_count": 16,
   "metadata": {},
   "outputs": [
    {
     "name": "stdout",
     "output_type": "stream",
     "text": [
      "U =\n",
      " [[  4.          22.          53.          33.        ]\n",
      " [  0.          -6.         -18.5         -7.5       ]\n",
      " [  0.           0.         -15.375       -8.625     ]\n",
      " [  0.           0.           0.          -0.09756098]]\n",
      "L =\n",
      " [[ 1.          0.          0.          0.        ]\n",
      " [ 0.5         1.          0.          0.        ]\n",
      " [ 0.75       -0.25        1.          0.        ]\n",
      " [ 0.25        0.75       -0.17073171  1.        ]]\n"
     ]
    }
   ],
   "source": [
    "P, L, U = linalg.lu(d)\n",
    "\n",
    "print(f'U =\\n {U}')\n",
    "print(f'L =\\n {L}')"
   ]
  },
  {
   "cell_type": "markdown",
   "metadata": {},
   "source": [
    "__3*.__ Решить систему линейных уравнений методом $LU$-разложения\n",
    "\n",
    "$$\\begin{cases}\n",
    "2x_{1}+x_{2}+3x_{3}=1 \\\\\n",
    "11x_{1}+7x_{2}+5x_{3}=-6 \\\\\n",
    "9x_{1}+8x_{2}+4x_{3}=-5\n",
    "\\end{cases}$$"
   ]
  },
  {
   "cell_type": "markdown",
   "metadata": {},
   "source": [
    "\n",
    "$\\begin{pmatrix}\n",
    "\\left.\\begin{matrix}\n",
    "2 & 1 & 3\\\\ \n",
    "11 & 7 & 5\\\\ \n",
    "9 & 8 & 4\n",
    "\\end{matrix}\\right|\n",
    "\\begin{matrix}\n",
    "1\\\\ \n",
    "-6\\\\\n",
    "-5\n",
    "\\end{matrix}\n",
    "\\end{pmatrix} \\rightarrow \n",
    "\\begin{pmatrix}\n",
    "\\left.\\begin{matrix}\n",
    "2 & 1 & 3\\\\ \n",
    "22 & 14 & 10\\\\ \n",
    "18 & 16 & 8\n",
    "\\end{matrix}\\right|\n",
    "\\begin{matrix}\n",
    "1\\\\ \n",
    "-12\\\\\n",
    "-10\n",
    "\\end{matrix}\n",
    "\\end{pmatrix}$\n",
    "\n",
    "\n",
    "U: $\\begin{pmatrix}\n",
    "2 & 1 & 3 \\\\ \n",
    "22 & 14 & 10 \\\\ \n",
    "18 & 16 & 8\n",
    "\\end{pmatrix} \\rightarrow\n",
    "\\begin{pmatrix}\n",
    "2 & 1 & 3 \\\\ \n",
    "0 & 3 & -23 \\\\ \n",
    "0 & 7 & -19\n",
    "\\end{pmatrix} \\rightarrow\n",
    "\\begin{pmatrix}\n",
    "2 & 1 & 3 \\\\ \n",
    "0 & 3 & -23 \\\\ \n",
    "0 & 0 & \\frac{104}{3}\n",
    "\\end{pmatrix}=U$\n",
    "L: $\\begin{pmatrix}\n",
    "1 & 0 & 0 \\\\ \n",
    "l_{21} & 1 & 0 \\\\ \n",
    "l_{31} & l_{32} & 1\n",
    "\\end{pmatrix} \\rightarrow\n",
    "\\begin{pmatrix}\n",
    "1 & 0 & 0 \\\\ \n",
    "11 & 1 & 0 \\\\ \n",
    "9 & l_{32} & 1\n",
    "\\end{pmatrix} \\rightarrow\n",
    "\\begin{pmatrix}\n",
    "1 & 0 & 0 \\\\ \n",
    "11 & 1 & 0 \\\\ \n",
    "9 & \\frac{7}{3} & 1\n",
    "\\end{pmatrix}=L$\n",
    "\n",
    "Решим систему $Ly=b$:\n",
    "$\\begin{cases}\n",
    "y_1=1 \\\\\n",
    "11y_{1}+y_2=-12 \\\\\n",
    "9y_{1}+\\frac{7}{3}y_{2}+y_{3}=-10\n",
    "\\end{cases} \\Leftrightarrow\n",
    "\\begin{cases}\n",
    "y_1=1 \\\\\n",
    "y_2=-23 \\\\\n",
    "y_{3}=\\frac{104}{3}\n",
    "\\end{cases}$\n",
    "\n",
    "Решим систему $Ux=y$:\n",
    "$\\begin{cases}\n",
    "2x_1+x_2+3x_3=1 \\\\\n",
    "3x_2-23x_3=-23 \\\\\n",
    "\\frac{104}{3}x_3=\\frac{104}{3}\n",
    "\\end{cases} \\Leftrightarrow\n",
    "\\begin{cases}\n",
    "x_1=-1 \\\\\n",
    "x_2=0 \\\\\n",
    "x_3=1\n",
    "\\end{cases}$"
   ]
  },
  {
   "cell_type": "markdown",
   "metadata": {},
   "source": [
    "**Проверка на python**"
   ]
  },
  {
   "cell_type": "code",
   "execution_count": 17,
   "metadata": {},
   "outputs": [
    {
     "name": "stdout",
     "output_type": "stream",
     "text": [
      " x_1 = -1.0\n",
      " x_2 = 0.0\n",
      " x_3 = 1.0\n"
     ]
    }
   ],
   "source": [
    "a = np.array([[2, 1, 3], [11, 7, 5], [9, 8, 4]])\n",
    "b = np.array([1, -6, -5])\n",
    "P, L, U = linalg.lu(a)\n",
    "lu, piv = linalg.lu_factor(a)\n",
    "x = np.round(linalg.lu_solve((lu, piv), b))\n",
    "print(f' x_1 = {x[0]}\\n x_2 = {x[1]}\\n x_3 = {x[2]}')"
   ]
  },
  {
   "cell_type": "markdown",
   "metadata": {},
   "source": [
    "__4*.__ Решить систему линейных уравнений методом Холецкого\n",
    "\n",
    "$$\\begin{cases}\n",
    "81x_{1}-45x_{2}+45x_{3}=531 \\\\\n",
    "-45x_{1}+50x_{2}-15x_{3}=-460 \\\\\n",
    "45x_{1}-15x_{2}+38x_{3}=193\n",
    "\\end{cases}$$"
   ]
  },
  {
   "cell_type": "markdown",
   "metadata": {},
   "source": [
    "$\\begin{pmatrix}\n",
    "81 & -45 & 45 \\\\\n",
    "-45 & 50 & -15 \\\\\n",
    "45 & -15 & 38\n",
    "\\end{pmatrix}$\n",
    "$l_{11} =\\sqrt{a_{11}} = \\sqrt{81} = 9$\n",
    "$l_{21} =\\frac{a_{21}}{l_{11}} = \\frac{-45}{9} = -5$\n",
    "$l_{31} =\\frac{a_{31}}{l_{11}} = \\frac{45}{9} = 5$\n",
    "$l_{22} = \\sqrt{a_{22}-l_{21}^{2}} = \\sqrt{50 - (-5)^2} = 5$\n",
    "$l_{32} = \\frac{1}{l_{22}}\\left ( a_{32}-l_{21}l_{31} \\right) = \\frac{1}{5}(-15 - (-5) \\cdot 5) = 2$\n",
    "$l_{33} = \\sqrt{a_{33}-l_{32}^{2}-l_{31}^{2}} = \\sqrt{38 - 2^2 - 5^2} = 3$\n",
    "$L = \\begin{pmatrix}\n",
    "9 & 0 & 0 \\\\ \n",
    "-5 & 5 & 0 \\\\ \n",
    "5 & 2 & 3\n",
    "\\end{pmatrix}, \n",
    "\\; \\; \n",
    "L^{T} = \\begin{pmatrix}\n",
    "9 & -5 & 5 \\\\ \n",
    "0 & 5 & 2\\\\ \n",
    "0 & 0 & 3\n",
    "\\end{pmatrix}.$\n",
    "$Ly=b:$\n",
    "$\\begin{cases}\n",
    "    9 y_1 = 531 \\\\\n",
    "    -5 y_1 + 5 y_2 = -460 \\\\\n",
    "    5 y_1 + 2 y_2 + 3 y_3 = 193\n",
    "\\end{cases}$\n",
    "$y_1 = 59$\n",
    "$y_2 = -33$\n",
    "$y_3 = -12$\n",
    "$L^{T}x=y:$\n",
    "$\\begin{cases}\n",
    "    9 x_1 - 5 x_2 + 5 x_3 = 59 \\\\\n",
    "    5 x_2 + 2 x_3 = -33 \\\\\n",
    "    3 x_3 = -12\n",
    "\\end{cases}$\n",
    "\n",
    "$x_1 = 6$,\n",
    "$x_2 = -5$,\n",
    "$x_3 = -4$"
   ]
  },
  {
   "cell_type": "markdown",
   "metadata": {},
   "source": [
    "**Проверка на python**"
   ]
  },
  {
   "cell_type": "code",
   "execution_count": 18,
   "metadata": {},
   "outputs": [
    {
     "data": {
      "text/plain": [
       "array([ 6., -5., -4.])"
      ]
     },
     "execution_count": 18,
     "metadata": {},
     "output_type": "execute_result"
    }
   ],
   "source": [
    "a = np.array([[81, -45, 45], [-45, 50, -15],[45, -15, 38]])\n",
    "b = np.array([531, -460, 193])\n",
    "np.linalg.solve(a, b)"
   ]
  },
  {
   "cell_type": "markdown",
   "metadata": {},
   "source": [
    "__5*.__ Написать на Python программу с реализацией одного из изученных алгоритмов решения СЛАУ."
   ]
  }
 ],
 "metadata": {
  "kernelspec": {
   "display_name": "Python 3",
   "language": "python",
   "name": "python3"
  },
  "language_info": {
   "codemirror_mode": {
    "name": "ipython",
    "version": 3
   },
   "file_extension": ".py",
   "mimetype": "text/x-python",
   "name": "python",
   "nbconvert_exporter": "python",
   "pygments_lexer": "ipython3",
   "version": "3.8.5"
  }
 },
 "nbformat": 4,
 "nbformat_minor": 4
}
