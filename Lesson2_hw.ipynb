{
 "cells": [
  {
   "cell_type": "markdown",
   "metadata": {},
   "source": [
    "# Урок 2. Матрицы и матричные операции"
   ]
  },
  {
   "cell_type": "code",
   "execution_count": 1,
   "metadata": {},
   "outputs": [],
   "source": [
    "import numpy as np\n",
    "import scipy.linalg"
   ]
  },
  {
   "cell_type": "markdown",
   "metadata": {},
   "source": [
    "### Часть 1"
   ]
  },
  {
   "cell_type": "markdown",
   "metadata": {},
   "source": [
    "Все задания рекомендуется делать вручную, затем проверяя полученные результаты с использованием numpy.\n",
    "\n",
    "__1.__ Установить, какие произведения матриц $AB$ и $BA$ определены, и найти размерности полученных матриц:\n",
    "\n",
    "а) $A$ — матрица $4\\times 2$, $B$ — матрица $4\\times 2$;\n",
    "\n",
    "$AB, BA$ - определить нельзя, т.к. необходимо, чтобы число столбцов матрицы  A  было равно числу строк матрицы B\n",
    "\n",
    "б) $A$ — матрица $2\\times 5$, $B$ — матрица $5\\times 3$;\n",
    "\n",
    "$AB = 2 \\times 3$;\n",
    "$BA$ - определить нельзя, т.к. необходимо, чтобы число столбцов матрицы  A  было равно числу строк матрицы  B\n",
    "\n",
    "в) $A$ — матрица $8\\times 3$, $B$ — матрица $3\\times 8$;\n",
    "\n",
    "$AB = 8 \\times 8$\n",
    "$BA = 3 \\times 3$\n",
    "\n",
    "г) $A$ — квадратная матрица $4\\times 4$, $B$ — квадратная матрица $4\\times 4$.\n",
    "\n",
    "$AB = 4 \\times 4$\n",
    "$BA = 4 \\times 4$"
   ]
  },
  {
   "cell_type": "markdown",
   "metadata": {},
   "source": [
    "__2.__ Найти сумму и произведение матриц $A=\\begin{pmatrix}\n",
    "1 & -2\\\\ \n",
    "3 & 0\n",
    "\\end{pmatrix}$ и $B=\\begin{pmatrix}\n",
    "4 & -1\\\\ \n",
    "0 & 5\n",
    "\\end{pmatrix}.$"
   ]
  },
  {
   "cell_type": "markdown",
   "metadata": {},
   "source": [
    "$$A + B = \\begin{pmatrix} 1 & -2\\\\ 3 & 0 \\end{pmatrix} + \\begin{pmatrix} 4 & -1\\\\ 0 & 5 \\end{pmatrix} = \\begin{pmatrix} 1 + 4 & -2 + (-1) \\\\ 3 + 0 & 0 + 5 \\end{pmatrix} = \\begin{pmatrix} 5 & -3 \\\\ 3 & 5 \\end{pmatrix} $$\n",
    "\n",
    "\n",
    "$$A \\times B = \\begin{pmatrix} 1 & -2\\\\ 3 & 0 \\end{pmatrix} \\times \\begin{pmatrix} 4 & -1\\\\ 0 & 5 \\end{pmatrix} = \\begin{pmatrix} 1 \\cdot 4 + (-2) \\cdot 0 & 1 \\cdot (-1) + (-2) \\cdot 5 \\\\ 3 \\cdot (4) + 0 \\cdot 0 & 3 \\cdot (-1) + 0 \\cdot 5 \\end{pmatrix} = \\begin{pmatrix} 4 & -11 \\\\ 12 & -3 \\end{pmatrix} $$"
   ]
  },
  {
   "cell_type": "markdown",
   "metadata": {},
   "source": [
    "**Решение через python**"
   ]
  },
  {
   "cell_type": "code",
   "execution_count": 2,
   "metadata": {},
   "outputs": [
    {
     "name": "stdout",
     "output_type": "stream",
     "text": [
      "Матрица A + B\n",
      "[[ 5 -3]\n",
      " [ 3  5]]\n",
      "Матрица AB\n",
      "[[  4 -11]\n",
      " [ 12  -3]]\n"
     ]
    }
   ],
   "source": [
    "a = np.array([[1, -2], [3, 0]])\n",
    "b = np.array([[4, -1], [0, 5]])\n",
    "print(f'Матрица A + B\\n{a + b}')\n",
    "print(f'Матрица AB\\n{a.dot(b)}')"
   ]
  },
  {
   "cell_type": "markdown",
   "metadata": {},
   "source": [
    "__3.__ Из закономерностей сложения и умножения матриц на число можно сделать вывод, что матрицы одного размера образуют линейное пространство. Вычислить линейную комбинацию $3A-2B+4C$ для матриц $A=\\begin{pmatrix}\n",
    "1 & 7\\\\ \n",
    "3 & -6\n",
    "\\end{pmatrix}$, $B=\\begin{pmatrix}\n",
    "0 & 5\\\\ \n",
    "2 & -1\n",
    "\\end{pmatrix}$, $C=\\begin{pmatrix}\n",
    "2 & -4\\\\ \n",
    "1 & 1\n",
    "\\end{pmatrix}.$"
   ]
  },
  {
   "cell_type": "markdown",
   "metadata": {},
   "source": [
    "$$3A = 3 \\cdot \\begin{pmatrix} 1 & 7\\\\ 3 & -6 \\end{pmatrix}  = \\begin{pmatrix} 3 & 21\\\\ 9 & -18 \\end{pmatrix}  $$\n",
    "$$2B = 2 \\cdot \\begin{pmatrix} 0 & 5\\\\ 2 & -1 \\end{pmatrix}  = \\begin{pmatrix} 0 & 10\\\\ 4 & -2 \\end{pmatrix}  $$\n",
    "$$4C = 4 \\cdot \\begin{pmatrix} 2 & -4\\\\ 1 & 1 \\end{pmatrix}  = \\begin{pmatrix} 8 & -16\\\\ 4 & 4 \\end{pmatrix}  $$\n",
    "$$ 3A−2B+4C = \\begin{pmatrix} 3 & 21\\\\ 9 & -18 \\end{pmatrix} - \\begin{pmatrix} 0 & 10\\\\ 4 & -2 \\end{pmatrix} + \\begin{pmatrix} 8 & -16\\\\ 4 & 4 \\end{pmatrix} = \\begin{pmatrix} 11 & -5\\\\ 9 & -12 \\end{pmatrix} $$"
   ]
  },
  {
   "cell_type": "markdown",
   "metadata": {},
   "source": [
    "**Решение через python**"
   ]
  },
  {
   "cell_type": "code",
   "execution_count": 3,
   "metadata": {},
   "outputs": [
    {
     "name": "stdout",
     "output_type": "stream",
     "text": [
      "Линейная комбинация  3𝐴−2𝐵+4𝐶 \n",
      "[[ 11  -5]\n",
      " [  9 -12]]\n"
     ]
    }
   ],
   "source": [
    "a = np.array([[1, 7], [3, -6]])\n",
    "b = np.array([[0, 5], [2, -1]])\n",
    "c = np.array([[2, -4], [1, 1]])\n",
    "print(f'Линейная комбинация  3𝐴−2𝐵+4𝐶 \\n{3*a - 2* b + 4*c}')"
   ]
  },
  {
   "cell_type": "markdown",
   "metadata": {},
   "source": [
    "__4.__ Дана матрица $A=\\begin{pmatrix}\n",
    "4 & 1\\\\ \n",
    "5 & -2\\\\ \n",
    "2 & 3\n",
    "\\end{pmatrix}$.\n",
    "Вычислить $AA^{T}$ и $A^{T}A$."
   ]
  },
  {
   "cell_type": "markdown",
   "metadata": {},
   "source": [
    "$$A^{T}=\\begin{pmatrix} 4 & 5 & 2 \\\\ 1 & -2 & 3 \\end{pmatrix}$$$$A \\times A^{T}=\\begin{pmatrix} 4 & 1\\\\ 5 & -2\\\\ 2 & 3 \\end{pmatrix} \\times \\begin{pmatrix} 4 & 5 & 2 \\\\ 1 & -2 & 3 \\end{pmatrix} = \\begin{pmatrix} 4 \\cdot 4 + 1 \\cdot 1 & 4 \\cdot 5 + 1 \\cdot (-2) & 4 \\cdot 2 + 1 \\cdot 3\\\\ 5 \\cdot 4 + (-2) \\cdot 1 & 5 \\cdot 5 + (-2) \\cdot (-2) & 5 \\cdot 2 + (-2) \\cdot 3 \\\\ 2 \\cdot 4 + 3 \\cdot 1 & 2 \\cdot 5 + 3 \\cdot (-2) & 2 \\cdot 2 + 3 \\cdot 3 \\end{pmatrix} = \\begin{pmatrix} 17 & 18 & 11 \\\\ 18 & 29 & 4 \\\\ 11 & 4 & 13 \\end{pmatrix}$$$$A^{T} \\times A = \\begin{pmatrix} 4 & 5 & 2 \\\\ 1 & -2 & 3 \\end{pmatrix} \\times \\begin{pmatrix} 4 & 1\\\\ 5 & -2\\\\ 2 & 3 \\end{pmatrix} = \\begin{pmatrix} 4 \\cdot 4 + 5 \\cdot 5 + 2 \\cdot 2 & 4 \\cdot 1 + 5 \\cdot (-2) + 2 \\cdot 3 \\\\ 1 \\cdot 4 + (-2) \\cdot 5 + 3 \\cdot 2 & 1 \\cdot 1 + (-2) \\cdot (-2) + 3 \\cdot 3 \\end{pmatrix} = \\begin{pmatrix} 45 & 0 \\\\ 0 & 14 \\end{pmatrix}$$"
   ]
  },
  {
   "cell_type": "markdown",
   "metadata": {},
   "source": [
    "**Решение через python**"
   ]
  },
  {
   "cell_type": "code",
   "execution_count": 4,
   "metadata": {},
   "outputs": [
    {
     "name": "stdout",
     "output_type": "stream",
     "text": [
      "Матрица:\n",
      "[[ 4  1]\n",
      " [ 5 -2]\n",
      " [ 2  3]]\n",
      "Транспонированная матрица:\n",
      "[[ 4  5  2]\n",
      " [ 1 -2  3]]\n",
      "A^TA\n",
      "[[17 18 11]\n",
      " [18 29  4]\n",
      " [11  4 13]]\n",
      "A^TA\n",
      "[[45  0]\n",
      " [ 0 14]]\n"
     ]
    }
   ],
   "source": [
    "a = np.array([[4, 1], [5, -2], [2, 3]])\n",
    "print(f'Матрица:\\n{a}')\n",
    "print(f'Транспонированная матрица:\\n{a.T}')\n",
    "print(f'A^TA\\n{np.dot(a, a.T)}')\n",
    "print(f'A^TA\\n{np.dot(a.T, a)}')"
   ]
  },
  {
   "cell_type": "markdown",
   "metadata": {},
   "source": [
    "__5*.__ Написать на Python функцию для перемножения двух произвольных матриц, не используя NumPy."
   ]
  },
  {
   "cell_type": "code",
   "execution_count": 5,
   "metadata": {},
   "outputs": [],
   "source": [
    "def dot_matrix(a, b):\n",
    "    if len(a[0]) == len(b) and len(a) == len(b[0]):\n",
    "        c = [[0 for _ in range(len(a))] for _ in range(len(b[0]))]\n",
    "        for m in range(len(a)):\n",
    "            for n in range(len(a[0])):\n",
    "                for k in range(len(b[0])):\n",
    "                    c[m][k] = a[m][n] * b[n][k] + c[m][k]\n",
    "    return c"
   ]
  },
  {
   "cell_type": "code",
   "execution_count": 6,
   "metadata": {},
   "outputs": [
    {
     "name": "stdout",
     "output_type": "stream",
     "text": [
      "Работа Функции \n",
      "[[4, -11], [12, -3]]\n",
      "Проверка функции \n",
      "[[  4 -11]\n",
      " [ 12  -3]]\n"
     ]
    }
   ],
   "source": [
    "a = np.array([[1, -2], [3, 0]])\n",
    "b = np.array([[4, -1], [0, 5]])\n",
    "\n",
    "print(f'Работа Функции \\n{dot_matrix(a, b)}')\n",
    "print(f'Проверка функции \\n{a.dot(b)}')"
   ]
  },
  {
   "cell_type": "markdown",
   "metadata": {},
   "source": [
    "### Часть 2\n"
   ]
  },
  {
   "cell_type": "markdown",
   "metadata": {},
   "source": [
    "__1.__ Вычислить определитель:\n",
    "   a)\n",
    "$$\\begin{vmatrix}\n",
    "sinx & -cosx\\\\ \n",
    "cosx & sinx\n",
    "\\end{vmatrix};$$\n",
    "\n",
    "   б)\n",
    "$$\\begin{vmatrix}\n",
    "4 & 2 & 3\\\\ \n",
    "0 & 5 & 1\\\\ \n",
    "0 & 0 & 9\n",
    "\\end{vmatrix};$$\n",
    "    \n",
    "   в)\n",
    "\n",
    "$$\\begin{vmatrix}\n",
    "1 & 2 & 3\\\\ \n",
    "4 & 5 & 6\\\\ \n",
    "7 & 8 & 9\n",
    "\\end{vmatrix}.$$"
   ]
  },
  {
   "cell_type": "markdown",
   "metadata": {},
   "source": [
    "a) $\\begin{pmatrix} sin(x) & -cos(x)\\\\ cos(x) & sin(x) \\end{pmatrix} = sin^2(x) + cos^2(x) = 1$\n",
    "\n",
    "б)\n",
    "Матрица треугольного вида, определитель которой равен произведению диагональных элементов:    \n",
    "$$\\begin{pmatrix}\n",
    "4 & 2 & 3\\\\ \n",
    "0 & 5 & 1\\\\ \n",
    "0 & 0 & 9\n",
    "\\end{pmatrix} = 4 \\cdot 5 \\cdot 9 = 180$$\n",
    "\n",
    "   в)\n",
    "$$\\begin{pmatrix} 1 & 2 & 3\\\\ 4 & 5 & 6\\\\ 7 & 8 & 9 \\end{pmatrix} = 1 \\cdot \\begin{pmatrix} 5 & 6\\\\ 8 & 9 \\end{pmatrix} - 2 \\cdot \\begin{pmatrix} 4 & 6\\\\ 7 & 9 \\end{pmatrix} + 3 \\cdot \\begin{pmatrix} 4 & 5\\\\ 7 & 8 \\end{pmatrix} = 1 \\cdot (5 \\cdot 9 - 6 \\cdot 8) - 2 \\cdot (4 \\cdot 9 - 6 \\cdot 7) + 3 \\cdot (4 \\cdot 8 - 5 \\cdot 7) = 0$$"
   ]
  },
  {
   "cell_type": "markdown",
   "metadata": {},
   "source": [
    "**Решение через python**"
   ]
  },
  {
   "cell_type": "code",
   "execution_count": 7,
   "metadata": {},
   "outputs": [
    {
     "name": "stdout",
     "output_type": "stream",
     "text": [
      "б) Матрица:\n",
      "[[4 2 3]\n",
      " [0 5 1]\n",
      " [0 0 9]]\n",
      "Определитель:\n",
      "180\n",
      "в) Матрица:\n",
      "[[1 2 3]\n",
      " [4 5 6]\n",
      " [7 8 9]]\n",
      "Определитель:\n",
      "-0\n"
     ]
    }
   ],
   "source": [
    "b = np.array([[4, 2, 3], [0, 5, 1], [0, 0, 9]])\n",
    "print(f'б) Матрица:\\n{b}')\n",
    "print(f'Определитель:\\n{np.linalg.det(b):.0f}')\n",
    "\n",
    "с = np.array([[1, 2, 3], [4, 5, 6], [7, 8, 9]])\n",
    "print(f'в) Матрица:\\n{с}')\n",
    "print(f'Определитель:\\n{np.linalg.det(с):.0f}')"
   ]
  },
  {
   "cell_type": "markdown",
   "metadata": {},
   "source": [
    "__2.__ Определитель матрицы $A$ равен $4$. Найти:\n",
    "\n",
    "а) $det(A^{2}) = det(A \\cdot A) = det(A) \\cdot det(A) = 4 \\cdot 4 = 16$;\n",
    "\n",
    "б) $det(A^{T})= det(A) = 4$;\n",
    "\n",
    "в) $det(2A) = 2 \\cdot det(A) = 8$"
   ]
  },
  {
   "cell_type": "markdown",
   "metadata": {},
   "source": [
    "__3.__  Доказать, что матрица\n",
    "\n",
    "$$\\begin{pmatrix}\n",
    "-2 & 7 & -3\\\\ \n",
    "4 & -14 & 6\\\\ \n",
    "-3 & 7 & 13\n",
    "\\end{pmatrix}$$\n",
    "   \n",
    "вырожденная."
   ]
  },
  {
   "cell_type": "markdown",
   "metadata": {},
   "source": [
    "Матрица называется вырожденная, если определитель матрицы равен нулю\n",
    "\n",
    "$$\\begin{pmatrix} -2 & 7 & -3\\\\ 4 & -14 & 6\\\\ -3 & 7 & 13 \\end{pmatrix} = -2 \\cdot \\begin{pmatrix} -14 & 6 \\\\ 7 & 13 \\end{pmatrix} - 7 \\cdot \\begin{pmatrix} 4 & 6 \\\\ -3 & 13 \\end{pmatrix} + (-3) \\cdot \\begin{pmatrix} 4 & -14 \\\\ 7 & 13 \\end{pmatrix} = -2 \\cdot (-14 \\cdot 13 - 6 \\cdot 7) - 7 (4 \\cdot 13 - 6 \\cdot (-3)) + (-3)\\cdot (4 \\cdot 7 - (-14)\\cdot (-3)) = 0$$"
   ]
  },
  {
   "cell_type": "markdown",
   "metadata": {},
   "source": [
    "**Решение через python**"
   ]
  },
  {
   "cell_type": "code",
   "execution_count": 8,
   "metadata": {},
   "outputs": [
    {
     "name": "stdout",
     "output_type": "stream",
     "text": [
      "б) Матрица:\n",
      "[[ -2   7  -3]\n",
      " [  4 -14   6]\n",
      " [ -3   7  13]]\n",
      "Определитель:\n",
      "0\n"
     ]
    }
   ],
   "source": [
    "b = np.array([[-2, 7, -3], [4, -14, 6], [-3, 7, 13]])\n",
    "print(f'б) Матрица:\\n{b}')\n",
    "print(f'Определитель:\\n{np.linalg.det(b):.0f}')"
   ]
  },
  {
   "cell_type": "markdown",
   "metadata": {},
   "source": [
    "__4.__ Найти ранг матрицы:\n",
    "\n",
    "a) $$\\begin{pmatrix} 1 & 2 & 3\\\\ 1 & 1 & 1\\\\ 2 & 3 & 4 \\end{pmatrix}$$ Третья строка является суммой первой и второй строк, а значит, ее можно отбросить: $$\\begin{pmatrix} 1 & 2 & 3\\\\ 1 & 1 & 1 \\end{pmatrix}$$\n",
    "Поменяем 1 и 2 строки местами\n",
    "$$\\begin{pmatrix} 1 & 1 & 1 \\\\ 1 & 2 & 3 \\end{pmatrix}$$\n",
    "Вычтем из второй строки первую\n",
    "$$\\begin{pmatrix} 1 & 1 & 1 \\\\ 0 & 1 & 2 \\end{pmatrix}$$\n",
    "Ранг матрицы равен $2$\n",
    "\n",
    "\n",
    "б) $$\\begin{pmatrix} 0 & 0 & 2 & 1\\\\ 0 & 0 & 2 & 2\\\\ 0 & 0 & 4 & 3\\\\ 2 & 3 & 5 & 6 \\end{pmatrix}$$\n",
    "3 строка - это сумма 1 и 2 строк, значит ей убираем\n",
    "\n",
    "$$ \\begin{pmatrix} 0 & 0 & 2 & 1\\\\ 0 & 0 & 2 & 2\\\\ 2 & 3 & 5 & 6 \\end{pmatrix}. $$\n",
    "Ранг матрицы равен $3$"
   ]
  },
  {
   "cell_type": "markdown",
   "metadata": {},
   "source": [
    "**Решение через python**"
   ]
  },
  {
   "cell_type": "code",
   "execution_count": 9,
   "metadata": {},
   "outputs": [
    {
     "name": "stdout",
     "output_type": "stream",
     "text": [
      "a) Ранг матрицы: 2\n",
      "б) Ранг матрицы: 3\n"
     ]
    }
   ],
   "source": [
    "a = np.array([[1, 2, 3], [1, 1, 1], [2, 3, 4]])\n",
    "r = np.linalg.matrix_rank(a)\n",
    "\n",
    "print(f'a) Ранг матрицы: {r}')\n",
    "\n",
    "b = np.array([[0, 0, 2, 1], [0, 0, 2, 2], [0, 0, 4, 3], [2, 3, 5, 6]])\n",
    "r = np.linalg.matrix_rank(b)\n",
    "\n",
    "print(f'б) Ранг матрицы: {r}')"
   ]
  }
 ],
 "metadata": {
  "kernelspec": {
   "display_name": "Python 3",
   "language": "python",
   "name": "python3"
  },
  "language_info": {
   "codemirror_mode": {
    "name": "ipython",
    "version": 3
   },
   "file_extension": ".py",
   "mimetype": "text/x-python",
   "name": "python",
   "nbconvert_exporter": "python",
   "pygments_lexer": "ipython3",
   "version": "3.8.5"
  }
 },
 "nbformat": 4,
 "nbformat_minor": 4
}
