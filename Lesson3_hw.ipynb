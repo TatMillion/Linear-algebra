{
 "cells": [
  {
   "cell_type": "markdown",
   "metadata": {},
   "source": [
    "# Урок 3. Линейные преобразования"
   ]
  },
  {
   "cell_type": "code",
   "execution_count": 1,
   "metadata": {},
   "outputs": [],
   "source": [
    "import numpy as np\n",
    "np.set_printoptions(precision=2, suppress=True)"
   ]
  },
  {
   "cell_type": "markdown",
   "metadata": {},
   "source": [
    "__1.__ Найти собственные векторы и собственные значения для линейного оператора, заданного матрицей\n",
    "\n",
    "$$A=\\begin{pmatrix}\n",
    "-1 & -6\\\\ \n",
    "2 & 6\n",
    "\\end{pmatrix}.$$"
   ]
  },
  {
   "cell_type": "markdown",
   "metadata": {},
   "source": [
    "Собственные значения:\n",
    "\n",
    "$$\\begin{vmatrix}\n",
    "-1-\\lambda & -6\\\\ \n",
    "2 & 6-\\lambda\n",
    "\\end{vmatrix} = 0,$$\n",
    "\n",
    "$$(-1-\\lambda)(6-\\lambda)-2\\cdot(-6)=0,$$\n",
    "\n",
    "$$\\lambda^{2}-5\\lambda +6=0,$$\n",
    "\n",
    "$$\\lambda=2, \\lambda=3 $$"
   ]
  },
  {
   "cell_type": "markdown",
   "metadata": {},
   "source": [
    "Собственные векторы:\n",
    "\n",
    "$$\\begin{cases}\n",
    "-x_{1}-6x_{2}=2 x_{1}, \\\\\n",
    "2x_{1}+6x_{2}=2 x_{2}.\n",
    "\\end{cases}; \\begin{cases}\n",
    "-3x_{1}-6x_{2}=0, \\\\\n",
    "2x_{1}+4x_{2}=0.\n",
    "\\end{cases}; \\begin{cases}\n",
    "x_{1}=-2x_{2}, \\\\\n",
    "x_{1}=-2x_{2}.\n",
    "\\end{cases}$$\n",
    "\n",
    "$$\\begin{cases}\n",
    "-x_{1}-6x_{2}=3 x_{1}, \\\\\n",
    "2x_{1}+6x_{2}=3 x_{2}.\n",
    "\\end{cases}; \\begin{cases}\n",
    "-4x_{1}-6x_{2}=0, \\\\\n",
    "2x_{1}+3x_{2}=0.\n",
    "\\end{cases}; \\begin{cases}\n",
    "x_{1}=-1.5x_{2}, \\\\\n",
    "x_{1}=-1.5x_{2}.\n",
    "\\end{cases}$$\n",
    "\n",
    "Cобственные векторы x(-2, 1); x(-3,2)"
   ]
  },
  {
   "cell_type": "markdown",
   "metadata": {},
   "source": [
    "**Решение через python**"
   ]
  },
  {
   "cell_type": "code",
   "execution_count": 2,
   "metadata": {},
   "outputs": [
    {
     "name": "stdout",
     "output_type": "stream",
     "text": [
      "Матрица A:\n",
      "[[-1 -6]\n",
      " [ 2  6]]\n",
      "Собственные значения:\n",
      "[2. 3.]\n",
      "Собственные векторы:\n",
      "[[-0.89  0.83]\n",
      " [ 0.45 -0.55]]\n",
      "v1\n",
      "[ 0.83 -0.55]\n",
      "v1\n",
      "[ 0.83 -0.55]\n",
      "\n",
      "1.0\n"
     ]
    }
   ],
   "source": [
    "a = np.array([[-1, -6], [2, 6]])\n",
    "\n",
    "w, v = np.linalg.eig(a)\n",
    "\n",
    "print(f'Матрица A:\\n{a}')\n",
    "print(f'Собственные значения:\\n{w}')\n",
    "print(f'Собственные векторы:\\n{v}')\n",
    "\n",
    "print(f'v1\\n{v.T[1]}')\n",
    "print(f'v1\\n{v[:, 1]}')\n",
    "print(f'\\n{v.T[1].dot(v.T[1])}')"
   ]
  },
  {
   "cell_type": "markdown",
   "metadata": {},
   "source": [
    "__2.__ Дан оператор поворота на 180 градусов, задаваемый матрицей \n",
    "\n",
    "$$A=\\begin{pmatrix}\n",
    "-1 & 0\\\\ \n",
    "0 & -1\n",
    "\\end{pmatrix}.$$\n",
    "\n",
    "Показать, что __любой__ вектор является для него собственным."
   ]
  },
  {
   "cell_type": "markdown",
   "metadata": {},
   "source": [
    "Возьмем вектор $x=\\begin{pmatrix}\n",
    "a\\\\ \n",
    "b\n",
    "\\end{pmatrix}$ :\n",
    "$\\textbf{A}x=\\begin{pmatrix}\n",
    "-1 & 0\\\\ \n",
    "0 & -1\n",
    "\\end{pmatrix}\\begin{pmatrix}\n",
    "a\\\\ \n",
    "b\n",
    "\\end{pmatrix} = \\begin{pmatrix}\n",
    "-1\\cdot a+0\\cdot b\\\\ \n",
    "0\\cdot a-1\\cdot b\n",
    "\\end{pmatrix} = \\begin{pmatrix}\n",
    "-a\\\\ \n",
    "-b\n",
    "\\end{pmatrix} = (-1)\\begin{pmatrix}\n",
    "a\\\\ \n",
    "b\n",
    "\\end{pmatrix} = -x$\n",
    "\n",
    "Таким образом, произвольно взятый вектор $x=\\begin{pmatrix}\n",
    "a\\\\ \n",
    "b\n",
    "\\end{pmatrix}$ является собственным вектором данного поворота, заданного матрицей 𝐴, соответствующий собственному значению $\\lambda=-1$."
   ]
  },
  {
   "cell_type": "markdown",
   "metadata": {},
   "source": [
    "**Решение через python**"
   ]
  },
  {
   "cell_type": "code",
   "execution_count": 3,
   "metadata": {},
   "outputs": [
    {
     "name": "stdout",
     "output_type": "stream",
     "text": [
      "Собственные числа оператора  [-1. -1.]\n"
     ]
    }
   ],
   "source": [
    "w2, v2 = np.linalg.eig(np.array([[-1,0], [0, -1]]))\n",
    "print('Собственные числа оператора ', w2)"
   ]
  },
  {
   "cell_type": "markdown",
   "metadata": {},
   "source": [
    "__3.__ Пусть линейный оператор задан матрицей\n",
    "\n",
    "$$A=\\begin{pmatrix}\n",
    "1 & 1\\\\ \n",
    "-1 & 3\n",
    "\\end{pmatrix}.$$\n",
    "\n",
    "Установить, является ли вектор $x=(1,1)$ собственным вектором этого линейного оператора."
   ]
  },
  {
   "cell_type": "markdown",
   "metadata": {},
   "source": [
    "$$\\begin{pmatrix}\n",
    "1 & 1\\\\ \n",
    "-1 & 3\n",
    "\\end{pmatrix}\n",
    "\\begin{pmatrix}\n",
    "1\\\\ \n",
    "1 \n",
    "\\end{pmatrix}=\n",
    "\\lambda\n",
    "\\begin{pmatrix}\n",
    "1\\\\ \n",
    "1\n",
    "\\end{pmatrix}.\n",
    "$$\n",
    "\n",
    "$$\\begin{cases}\n",
    "1+1=\\lambda, \\\\\n",
    "-1+3 =\\lambda.\n",
    "\\end{cases}; \\lambda=2$$\n",
    "\n",
    "Таким образом, вектор $x=(1,1)$ является собственным вектором линейного оператора, заданного матрицей $A$"
   ]
  },
  {
   "cell_type": "markdown",
   "metadata": {},
   "source": [
    "**Решение через python**"
   ]
  },
  {
   "cell_type": "code",
   "execution_count": 4,
   "metadata": {},
   "outputs": [
    {
     "name": "stdout",
     "output_type": "stream",
     "text": [
      "Матрица A:\n",
      "[[ 1  1]\n",
      " [-1  3]]\n",
      "Собственные значения:\n",
      "[2. 2.]\n"
     ]
    }
   ],
   "source": [
    "a = np.array([[1, 1], [-1, 3]])\n",
    "w, v = np.linalg.eig(a)\n",
    "\n",
    "print(f'Матрица A:\\n{a}')\n",
    "print(f'Собственные значения:\\n{w}')"
   ]
  },
  {
   "cell_type": "markdown",
   "metadata": {},
   "source": [
    "__4.__ Пусть линейный оператор задан матрицей\n",
    "\n",
    "$$A=\\begin{pmatrix}\n",
    "0 & 3 & 0\\\\ \n",
    "3 & 0 & 0\\\\\n",
    "0 & 0 & 3\n",
    "\\end{pmatrix}.$$\n",
    "\n",
    "Установить, является ли вектор $x=(3, -3, -4)$ собственным вектором этого линейного оператора."
   ]
  },
  {
   "cell_type": "markdown",
   "metadata": {},
   "source": [
    "$$\\begin{pmatrix}\n",
    "0 & 3 & 0\\\\ \n",
    "3 & 0 & 0\\\\\n",
    "0 & 0 & 3\n",
    "\\end{pmatrix}\\begin{pmatrix}\n",
    "3\\\\ \n",
    "-3\\\\\n",
    "-4\n",
    "\\end{pmatrix}= \\lambda \\begin{pmatrix}\n",
    "3\\\\ \n",
    "-3\\\\\n",
    "-4\n",
    "\\end{pmatrix} $$"
   ]
  },
  {
   "cell_type": "markdown",
   "metadata": {},
   "source": [
    "$\\begin{cases}\n",
    "-3\\lambda-9 =0 \\\\\n",
    "3\\lambda+9=0 \\\\\n",
    "4\\lambda -12 = 0\n",
    "\\end{cases}; \n",
    "\\begin{cases}\n",
    "\\lambda = -3 \\\\\n",
    "\\lambda = -3 \\\\\n",
    "\\lambda = 3\n",
    "\\end{cases};$\n",
    "\n",
    "Нет единственного решения для системы уравнений.\n",
    "Следовательно, вектор $x=(3, -3, -4)$ не является собственным вектором линейного оператора"
   ]
  },
  {
   "cell_type": "code",
   "execution_count": 5,
   "metadata": {},
   "outputs": [
    {
     "name": "stdout",
     "output_type": "stream",
     "text": [
      "Матрица A:\n",
      "[[0 3 0]\n",
      " [3 0 0]\n",
      " [0 0 3]]\n",
      "Собственные значения:\n",
      "[ 3. -3.  3.]\n"
     ]
    }
   ],

  }
 ],
 "metadata": {
  "kernelspec": {
   "display_name": "Python 3",
   "language": "python",
   "name": "python3"
  },
  "language_info": {
   "codemirror_mode": {
    "name": "ipython",
    "version": 3
   },
   "file_extension": ".py",
   "mimetype": "text/x-python",
   "name": "python",
   "nbconvert_exporter": "python",
   "pygments_lexer": "ipython3",
   "version": "3.8.5"
  }
 },
 "nbformat": 4,
 "nbformat_minor": 4
}
