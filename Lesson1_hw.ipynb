{
 "cells": [
  {
   "cell_type": "markdown",
   "metadata": {},
   "source": [
    "# Линейное пространство. Основные понятия. Часть 1"
   ]
  },
  {
   "cell_type": "markdown",
   "metadata": {},
   "source": [
    "__1.__ Исследовать на линейную зависимость:\n",
    "\n",
    "$$f_{1}(x)=e^{x}, f_{2}(x)=1, f_{3}(x)=x+1, f_{4}(x)=x-e^{x}.$$"
   ]
  },
  {
   "cell_type": "markdown",
   "metadata": {},
   "source": [
    "\n",
    "$\\alpha_{1}(e^{x}) + \\alpha_{2}(1) + \\alpha_{3}(x + 1) + \\alpha_{4}(x - e^{x})= 0$\n",
    "\n",
    "$f_{4} = f_{3} - f_{2} - f_{1}$ линейно зависимы, т.к. четвертый вектор является линейной комбинацией остальных векторов."
   ]
  },
  {
   "cell_type": "markdown",
   "metadata": {},
   "source": [
    "__2.__ Исследовать на линейную зависимость:\n",
    "$$f_{1}(x)=2, f_{2}(x)=x, f_{3}(x)=x^{2}, f_{4}(x)=(x+1)^{2}$$"
   ]
  },
  {
   "cell_type": "markdown",
   "metadata": {},
   "source": [
    "$$ f_4(x) - f_3(x) - 2 f_2(x) - \\frac{1}{2} f_1(x) = 0 ~~ \\forall x \\in \\mathbb{R}. $$\n",
    "Система линейно зависима."
   ]
  },
  {
   "cell_type": "markdown",
   "metadata": {},
   "source": [
    "__3.__ Найти координаты вектора $x = (2, 3, 5)\\in \\mathbb{R}^{3}$ в базисе $b_{1}=(0, 0, 10)$, $b_{2}=(2, 0, 0)$, $b_{3}=(0, 1, 0)$."
   ]
  },
  {
   "cell_type": "markdown",
   "metadata": {},
   "source": [
    "$x = \\alpha_{1}b_1 + \\alpha_{2}b_2 + \\alpha_{3}b_3$\n",
    "\n",
    "$(2, 3, 5) = (0\\alpha_1 + 2\\alpha_2 + 0\\alpha_3, 0\\alpha_1 + 0\\alpha_2 + 1\\alpha_3, 10\\alpha_1 + 0\\alpha_2 + 0\\alpha_3)$\n",
    "\n",
    "$\\begin{cases} 0\\alpha_1 + 2\\alpha_2 + 0\\alpha_3 = 2 \\\\ 0\\alpha_1 + 0\\alpha_2 + 1\\alpha_3 = 3 \\\\ 10\\alpha_1 + 0\\alpha_2 + 0\\alpha_3) = 5 \\end{cases}$\n",
    "\n",
    "$\\begin{cases} \\alpha_1 = \\frac{1}{2} \\\\ \\alpha_2 = 1 \\\\ \\alpha_3 = 3 \\end{cases}$\n",
    "\n",
    "Координаты вектора $x = \\left(\\frac{1}{2} , 1, 3 \\right)$"
   ]
  },
  {
   "cell_type": "markdown",
   "metadata": {},
   "source": [
    "__4.__ Найти координаты вектора $3x^{2}-2x+2\\in\\mathbb{R}^{3}[x]$:\n",
    "\n",
    "а) в базисе $1$, $x$, $x^{2}$;\n",
    "\n",
    "б) в базисе $x^{2}$, $x-1$, $1$."
   ]
  },
  {
   "cell_type": "markdown",
   "metadata": {},
   "source": [
    "а) $$ v_0 \\cdot 1 + v_1 \\cdot x + v_2 \\cdot x^2 = 3 x^2 - 2x + 2 $$\n",
    "   $$ v = (2, -2, 3) $$\n",
    "б) $$ v_0 \\cdot x^2 + v_1 \\cdot (x-1) + v_2 \\cdot 1 = 3 x^2 - 2x + 2 $$\n",
    "\n",
    "$$ v_0 = 3; v_1 = - 2; v_2 - v_1 = 2. $$$$ v_0 = 3; v_1 = -2; v_2 = 0 $$$$ v = {\\left(3, -2, 0 \\right)} $$"
   ]
  },
  {
   "cell_type": "markdown",
   "metadata": {},
   "source": [
    "__5.__ Установить, является ли линейным подпространством:\n",
    "\n",
    "а) совокупность всех векторов трехмерного пространства, у которых по крайней мере одна из первых двух координат равна нулю;\n",
    "    \n",
    "б) все векторы, являющиеся линейными комбинациями данных векторов $\\{u_{1}, u_{2}, \\ldots, u_{n}\\}$."
   ]
  },
  {
   "cell_type": "markdown",
   "metadata": {},
   "source": [
    "Установить, является ли линейным подпространством:\n",
    "а) совокупность всех векторов трехмерного пространства, у которых по крайней мере одна из первых двух координат равна нулю;\n",
    "б) все векторы, являющиеся линейными комбинациями данных векторов $\\{u_{1}, u_{2}, \\dots, u_{n}\\}$.\n",
    "\n",
    "a) Не является. $(a, 0, b) + (0, c, d) = (a, c, b + d)$ не oбразуют линейного пространства.\n",
    "\n",
    "б) Является. Cовокупность всех линейных комбинаций векторов $\\{u_{1}, u_{2}, \\dots , u_{n}\\}$ oбразует некоторое подпространство исходного линейного пространства."
   ]
  },
  {
   "cell_type": "markdown",
   "metadata": {},
   "source": [
    "# Линейное пространство. Основные понятия. Часть 2"
   ]
  },
  {
   "cell_type": "markdown",
   "metadata": {},
   "source": [
    "__1.__ Найти скалярное произведение векторов $x, y \\in \\mathbb{R}$:<br>\n",
    "а) $x=(0,-3, 6),~y=(-4, 7, 9);$<br>\n",
    "б) $x=(7, -4, 0, 1),~y=(-3, 1, 11, 2).$"
   ]
  },
  {
   "cell_type": "markdown",
   "metadata": {},
   "source": [
    "a) $(x, y) = 0 \\cdot (-4) + (-3) \\cdot 7 + 6 \\cdot 9 = 33$\n",
    "\n",
    "б) $(x, y) = 7 \\cdot (-3) +(-4) \\cdot 1 + 0 \\cdot 11 + 1 \\cdot\\ 2 = -23$"
   ]
  },
  {
   "cell_type": "markdown",
   "metadata": {},
   "source": [
    "__2.__ Найти нормы векторов $(4, 2, 4)$ и $(12, 3, 4)$ и угол между ними.\n"
   ]
  },
  {
   "cell_type": "markdown",
   "metadata": {},
   "source": [
    "$x = (4, 2, 4)$\n",
    "$y = (12, 3, 4)$\n",
    "$(x, y) = 4 \\cdot 12 + 2 \\cdot 3 + 4 \\cdot 4 = 70$\n",
    "\n",
    "$\\left\\|x\\right\\|_{1} = |4| + |2| + |4| = 10$\n",
    "$\\left\\|y\\right\\|_{1} = |12| + |3| + |4| = 19$\n",
    "$\\cos{\\varphi} = \\frac{x, y}{\\left \\|x\\right \\|\\cdot\\left \\|y\\right \\|} = \\frac{70}{10 \\cdot 19} = 0.3684$\n",
    "$\\varphi = \\frac{0.3684}{\\pi} \\cdot 180 = 21.10^{\\circ }$\n",
    "\n",
    "$\\left\\|x\\right\\|_{2} = \\sqrt{4^2 + 2^2 + 4^2} = 6$\n",
    "$\\left\\|y\\right\\|_{2} = \\sqrt{12^2 + 3^2 + 4^2} = 13$\n",
    "$\\cos{\\varphi} = \\frac{x, y}{\\left \\|x\\right \\|\\cdot\\left \\|y\\right \\|} = \\frac{70}{6 \\cdot 13} = 0.8974$\n",
    "$\\varphi = \\frac{0.8974}{\\pi} \\cdot 180 = 51.42^{\\circ }$"
   ]
  },
  {
   "cell_type": "markdown",
   "metadata": {},
   "source": [
    "**Решение на Python**"
   ]
  },
  {
   "cell_type": "code",
   "execution_count": 5,
   "metadata": {},
   "outputs": [],
   "source": [
    "import numpy as np\n",
    "from numpy.linalg import norm"
   ]
  },
  {
   "cell_type": "code",
   "execution_count": 6,
   "metadata": {},
   "outputs": [],
   "source": [
    "a = np.array([4, 2, 4])\n",
    "b = np.array([12, 3, 4])"
   ]
  },
  {
   "cell_type": "code",
   "execution_count": 12,
   "metadata": {},
   "outputs": [
    {
     "name": "stdout",
     "output_type": "stream",
     "text": [
      "Манхетовская норма вектора a:\n",
      "(10.0, 19.0)\n"
     ]
    }
   ],
   "source": [
    "print(f'Манхетовская норма вектора a:\\n{norm(a, ord=1), norm(b, ord=1)}')"
   ]
  },
  {
   "cell_type": "code",
   "execution_count": 14,
   "metadata": {},
   "outputs": [
    {
     "data": {
      "text/plain": [
       "0.3684210526315789"
      ]
     },
     "execution_count": 14,
     "metadata": {},
     "output_type": "execute_result"
    }
   ],
   "source": [
    "cos_phi = np.dot(a, b) / norm(a, ord=1) / norm(b,ord=1)\n",
    "cos_phi"
   ]
  },
  {
   "cell_type": "code",
   "execution_count": 13,
   "metadata": {},
   "outputs": [
    {
     "name": "stdout",
     "output_type": "stream",
     "text": [
      "Евклидова норма вектора а:\n",
      "(6.0, 13.0)\n"
     ]
    }
   ],
   "source": [
    "print(f'Евклидова норма вектора а:\\n{norm(a, ord=2),norm(b, ord=2)}')"
   ]
  },
  {
   "cell_type": "code",
   "execution_count": 15,
   "metadata": {},
   "outputs": [
    {
     "data": {
      "text/plain": [
       "0.8974358974358974"
      ]
     },
     "execution_count": 15,
     "metadata": {},
     "output_type": "execute_result"
    }
   ],
   "source": [
    "cos_phi = np.dot(a, b) / norm(a, ord=2) / norm(b,ord=2)\n",
    "cos_phi"
   ]
  },
  {
   "cell_type": "markdown",
   "metadata": {},
   "source": [
    "__3.__ Будет ли линейное пространство евклидовым, если за скалярное произведение принять:<br>\n",
    "а) произведение длин векторов;<br>\n",
    "Нет, т.к. не соблюдается аксиома $(x_{1}+x_{2},y) \\neq (x_{1},y)+(x_{2},y);$\n",
    " <br>\n",
    "б) утроенное обычное скалярное произведение векторов?<br>\n",
    "Да, т.к. согласно второй аксиоме $(\\lambda x,y) = \\lambda(x,y)$"
   ]
  },
  {
   "cell_type": "markdown",
   "metadata": {},
   "source": [
    "__4.__ Какие из нижеперечисленных векторов образуют ортонормированный базис в линейном пространстве $\\mathbb{R}^{3}$:<br>\n",
    "а) $(1,0,0),(0,0,1);$ <br>\n",
    "б) $(1/\\sqrt{2},-1/\\sqrt{2},0),(1/\\sqrt{2},1/\\sqrt{2},0), (0,0,1);$<br>\n",
    "в) $(1/2, -1/2, 0), (0, 1/2, 1/2), (0,0,1);$<br>\n",
    "г) $(1,0,0),(0,1,0),(0,0,1)?$"
   ]
  },
  {
   "cell_type": "markdown",
   "metadata": {},
   "source": [
    "а) $(1,0,0),(0,0,1)$\n",
    "б) $\\left(\\frac{1}{\\sqrt{2}},-\\frac{1}{\\sqrt{2}},0\\right),\\left(\\frac{1}{\\sqrt{2}},\\frac{1}{\\sqrt{2}},0\\right), (0,0,1);$\n",
    "в) $\\left(\\frac{1}{2}, -\\frac{1}{2}, 0\\right), \\left(0, \\frac{1}{2}, \\frac{1}{2}\\right), (0,0,1);$\n",
    "г) $(1,0,0),(0,1,0),(0,0,1)?$\n",
    "\n",
    "Если скалярное произведение векторов равно нулю и равно единице при совпадающем индексе, то вектора образуют ортонормированный базис\n",
    "\n",
    "а) $1 \\cdot 0 + 0 \\cdot 0 + 0 \\cdot 1 = 0$\n",
    "$|x_1| = 1$\n",
    "$|x_2| = 1$\n",
    "Вектора $(1,0,0), (0,0,1)$ - образуют ортонормированный базис\n",
    "\n",
    "б) $\\frac{1}{\\sqrt{2}} \\cdot \\frac{1}{\\sqrt{2}} + \\left(-\\frac{1}{\\sqrt{2}}\\right) \\cdot \\frac{1}{\\sqrt{2}} + 0 \\cdot 0 = 0$\n",
    "\n",
    "$|x_1| = \\sqrt{\\frac{1}{\\sqrt{2}}^2 + \\left(-\\frac{1}{\\sqrt{2}}\\right)^2 + 0^2} = 1$\n",
    "$|x_2| = \\sqrt{\\frac{1}{\\sqrt{2}}^2 + \\frac{1}{\\sqrt{2}}^2 + 0^2} = 1$\n",
    "$|x_3| = 1$\n",
    "\n",
    "Вектора $\\left(\\frac{1}{\\sqrt{2}},-\\frac{1}{\\sqrt{2}},0\\right),\\left(\\frac{1}{\\sqrt{2}},\\frac{1}{\\sqrt{2}},0\\right), (0,0,1)$- образуют ортонормированный базис\n",
    "\n",
    "в) $\\frac{1}{2} \\cdot \\frac{1}{2} + \\left(-\\frac{1}{2} \\cdot -\\frac{1}{2}\\right) + 0 \\cdot 0 = 0.5$\n",
    "Вектора $\\left(\\frac{1}{2}, -\\frac{1}{2}, 0\\right), \\left(0, \\frac{1}{2}, \\frac{1}{2}\\right), (0,0,1)$ -не образуют ортонормированный базис\n",
    "\n",
    "г) Вектора $(1,0,0),(0,1,0),(0,0,1)$ - образуют ортонормированный базис"
   ]
  },
  {
   "cell_type": "code",
   "execution_count": null,
   "metadata": {},
   "outputs": [],
   "source": []
  }
 ],
 "metadata": {
  "kernelspec": {
   "display_name": "Python 3",
   "language": "python",
   "name": "python3"
  },
  "language_info": {
   "codemirror_mode": {
    "name": "ipython",
    "version": 3
   },
   "file_extension": ".py",
   "mimetype": "text/x-python",
   "name": "python",
   "nbconvert_exporter": "python",
   "pygments_lexer": "ipython3",
   "version": "3.8.5"
  }
 },
 "nbformat": 4,
 "nbformat_minor": 4
}
